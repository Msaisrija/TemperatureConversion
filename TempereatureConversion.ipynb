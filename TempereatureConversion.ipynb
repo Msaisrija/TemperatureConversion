{
 "cells": [
  {
   "cell_type": "code",
   "execution_count": 5,
   "id": "c4c506fd-a50e-4e67-8e52-b10353842b1e",
   "metadata": {},
   "outputs": [
    {
     "name": "stdin",
     "output_type": "stream",
     "text": [
      "Enter the temperature:  275.5\n",
      "Enter the unit (C for Celsius, F for Fahrenheit, K for Kelvin):  F\n"
     ]
    },
    {
     "name": "stdout",
     "output_type": "stream",
     "text": [
      "temperature in celsius  135.27777777777777\n",
      "temperature in kelvin  408.42777777777775\n"
     ]
    }
   ],
   "source": [
    "temperature = float(input(\"Enter the temperature: \"))\n",
    "unit = input(\"Enter the unit (C for Celsius, F for Fahrenheit, K for Kelvin): \").upper()\n",
    "if unit == \"C\":\n",
    "    fahrenheit = (temperature * 9/5) + 32\n",
    "    kelvin = temperature + 273.15\n",
    "    print(\"temperature in fahrenheit \",fahrenheit)\n",
    "    print(\"temperature in kelvin \",kelvin)\n",
    "elif unit == \"F\":\n",
    "    celsius = (temperature - 32) * 5/9\n",
    "    kelvin = celsius + 273.15\n",
    "    print(\"temperature in celsius \",celsius)\n",
    "    print(\"temperature in kelvin \",kelvin)\n",
    "elif unit == \"K\":\n",
    "    celsius = temperature - 273.15\n",
    "    fahrenheit = (celsius * 9/5) + 32\n",
    "    print(\"temperature in celsius \",celsius)\n",
    "    print(\"temperature in kelvin \",  fahrenheit)\n",
    "else:\n",
    "    print(\"Invalid unit. Please enter C, F, or K.\")\n"
   ]
  },
  {
   "cell_type": "code",
   "execution_count": null,
   "id": "733b48f0-3636-4ad5-a07c-6ee67320b571",
   "metadata": {},
   "outputs": [],
   "source": []
  }
 ],
 "metadata": {
  "kernelspec": {
   "display_name": "Python 3 (ipykernel)",
   "language": "python",
   "name": "python3"
  },
  "language_info": {
   "codemirror_mode": {
    "name": "ipython",
    "version": 3
   },
   "file_extension": ".py",
   "mimetype": "text/x-python",
   "name": "python",
   "nbconvert_exporter": "python",
   "pygments_lexer": "ipython3",
   "version": "3.12.4"
  }
 },
 "nbformat": 4,
 "nbformat_minor": 5
}
